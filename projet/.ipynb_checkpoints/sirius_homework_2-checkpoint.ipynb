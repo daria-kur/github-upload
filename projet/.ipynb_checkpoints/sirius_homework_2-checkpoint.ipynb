{
 "cells": [
  {
   "cell_type": "code",
   "execution_count": 1,
   "metadata": {},
   "outputs": [],
   "source": [
    "import numpy as np"
   ]
  },
  {
   "cell_type": "code",
   "execution_count": 2,
   "metadata": {},
   "outputs": [
    {
     "name": "stdout",
     "output_type": "stream",
     "text": [
      "true\n"
     ]
    }
   ],
   "source": [
    "#1 Проверьте, есть ли в данном двумерном массиве нулевой столбец\n",
    "\n",
    "arr = np.array([[0, 1, 3], [0, 1, 3], [0, 1, 3]])\n",
    "\n",
    "zero_column = arr.sum(axis=0)\n",
    "lenght = len(zero_column)\n",
    "\n",
    "for i in range(lenght):\n",
    "    if zero_column[i] == 0:\n",
    "        print(\"true\")\n",
    "        break\n",
    "    else:\n",
    "        print(\"false\")\n",
    "        break"
   ]
  },
  {
   "cell_type": "code",
   "execution_count": 3,
   "metadata": {},
   "outputs": [
    {
     "name": "stdout",
     "output_type": "stream",
     "text": [
      "[[-1.33333333  1.          3.        ]\n",
      " [-3.66666667  8.          3.        ]\n",
      " [-7.66666667 19.          4.        ]]\n"
     ]
    }
   ],
   "source": [
    "#2 Для данной матрицы сосчитайте среднее значение по строкам и вычтете из каждой строки соответствующее среднее\n",
    "\n",
    "arr = np.array([[0, 1, 3], [0, 8, 3], [0, 19, 4]], dtype = np.float)\n",
    "\n",
    "mean_rows= arr.mean(axis = 1)\n",
    "\n",
    "for i in range(lenght):\n",
    "    arr[i, 0] -= mean_rows[i]\n",
    "    \n",
    "print(arr)"
   ]
  },
  {
   "cell_type": "code",
   "execution_count": 4,
   "metadata": {},
   "outputs": [
    {
     "name": "stdout",
     "output_type": "stream",
     "text": [
      "[12 18 24]\n"
     ]
    }
   ],
   "source": [
    "#3 Для данного двумерного массива верните элементы, большие 6 и делящиеся на 3\n",
    "\n",
    "arr = np.array([[12, 1, 3], [0, 18, 3], [0, 1, 24]])\n",
    "arr = arr[arr > 6]\n",
    "arr = arr[arr % 3 == 0]\n",
    "\n",
    "print(arr)\n",
    "\n",
    "# Скажите, пожалуйста, почему arr = arr[arr % 3 == 0 and arr > 6] не работает? \n",
    "# Он выявляет ошибку из-за неоднозначного ответа."
   ]
  },
  {
   "cell_type": "code",
   "execution_count": 5,
   "metadata": {},
   "outputs": [
    {
     "name": "stdout",
     "output_type": "stream",
     "text": [
      "[[ 1  1  2]\n",
      " [ 0  1 24]\n",
      " [ 0 18  3]\n",
      " [ 3  1  3]]\n"
     ]
    }
   ],
   "source": [
    "#4 Поменяйте местами строки матрицы так, чтобы первая строка оказалась последней, вторая – предпоследней и т.д.\n",
    "\n",
    "arr = np.array([[3, 1, 3], [0, 18, 3], [0, 1, 24],[1, 1, 2]])\n",
    "\n",
    "sh = int(arr.shape[0] / 2)\n",
    "arr2 = np.copy(arr[0:sh, :])\n",
    "\n",
    "for i in range(sh):\n",
    "    arr[i, :] = arr[i * -1 - 1, :]\n",
    "    arr[i * -1 - 1, :] = arr2[i, :]\n",
    "    \n",
    "print(arr)\n",
    "\n",
    "# Скажите, пожалуйста, почему на\n",
    "#\n",
    "# for i in range(sh):\n",
    "#    a = arr[i, :]\n",
    "#    arr[i, :] = arr[i * -1 - 1, :]\n",
    "#    arr[i * -1 - 1, :] = a\n",
    "#\n",
    "# вместо того, чтобы выводить [[ 1  1 24],[ 0  1 24],[ 0 18  3], [ 3  1  3]]\n",
    "# он выводит [[1, 1, 24], [0, 1, 24], [0, 1, 24],[1, 1, 24]]?"
   ]
  },
  {
   "cell_type": "code",
   "execution_count": 6,
   "metadata": {},
   "outputs": [
    {
     "name": "stdout",
     "output_type": "stream",
     "text": [
      "0\n"
     ]
    }
   ],
   "source": [
    "#5 Для данной матрицы верните уникальный набор её ненулевых строк\n",
    "\n",
    "arr = np.array([[0, 0, 0], [0, 1, 3], [0, 1, 3]])\n",
    "\n",
    "zero_row = arr.sum(axis=1)\n",
    "lenght = len(zero_row)\n",
    "\n",
    "for i in range(lenght):\n",
    "    if zero_row[i] == 0:\n",
    "        print(i)"
   ]
  },
  {
   "cell_type": "code",
   "execution_count": 7,
   "metadata": {},
   "outputs": [
    {
     "name": "stdout",
     "output_type": "stream",
     "text": [
      "[[2, 8], [6, 1]]\n"
     ]
    }
   ],
   "source": [
    "#6 Для трёхмерного массива верните диагонали его двумерных компонентов\n",
    "\n",
    "arr = np.array([[[2, 5], [3, 8]], [[6, 7], [9, 1]]])\n",
    "\n",
    "diagonals = []\n",
    "sh = arr.shape[1]\n",
    "\n",
    "for i in range(sh):\n",
    "    diagonal = [arr[i][0][0], arr[i][1][1]]\n",
    "    diagonals.append(diagonal)\n",
    "\n",
    "print(diagonals)"
   ]
  },
  {
   "cell_type": "code",
   "execution_count": 8,
   "metadata": {},
   "outputs": [
    {
     "name": "stdout",
     "output_type": "stream",
     "text": [
      "1\n",
      "2\n",
      "0\n",
      "[[18  3  0]\n",
      " [ 1 24  0]\n",
      " [ 1 24  1]]\n"
     ]
    }
   ],
   "source": [
    "#7 Переставьте столбцы данной матрицы по заданной перестановке индексов\n",
    "\n",
    "arr = np.array([[0, 18, 3], [0, 1, 24],[1, 1, 24]])\n",
    "\n",
    "arr2 = np.copy(arr)\n",
    "sh = arr.shape[1]\n",
    "\n",
    "for i in range(sh):\n",
    "    a = int(input())\n",
    "    arr[:, i] = arr2[:, a]\n",
    "    \n",
    "print(arr)"
   ]
  }
 ],
 "metadata": {
  "kernelspec": {
   "display_name": "Python 3",
   "language": "python",
   "name": "python3"
  },
  "language_info": {
   "codemirror_mode": {
    "name": "ipython",
    "version": 3
   },
   "file_extension": ".py",
   "mimetype": "text/x-python",
   "name": "python",
   "nbconvert_exporter": "python",
   "pygments_lexer": "ipython3",
   "version": "3.8.2"
  }
 },
 "nbformat": 4,
 "nbformat_minor": 4
}
